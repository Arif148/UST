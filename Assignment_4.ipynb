{
 "cells": [
  {
   "cell_type": "code",
   "execution_count": 7,
   "id": "c5df20cb",
   "metadata": {},
   "outputs": [
    {
     "name": "stdout",
     "output_type": "stream",
     "text": [
      "MongoClient(host=['localhost:27017'], document_class=dict, tz_aware=False, connect=True)\n",
      "{'avgerage_arrival_delay': 7.545457931394093}\n"
     ]
    },
    {
     "data": {
      "image/png": "[encoded data removed]",
      "text/plain": [
       "<Figure size 432x288 with 1 Axes>"
      ]
     },
     "metadata": {
      "needs_background": "light"
     },
     "output_type": "display_data"
    },
    {
     "data": {
      "image/png": "[encoded data removed]",
      "text/plain": [
       "<Figure size 432x288 with 1 Axes>"
      ]
     },
     "metadata": {
      "needs_background": "light"
     },
     "output_type": "display_data"
    },
    {
     "data": {
      "image/png": "[encoded data removed]",
      "text/plain": [
       "<Figure size 432x288 with 1 Axes>"
      ]
     },
     "metadata": {
      "needs_background": "light"
     },
     "output_type": "display_data"
    },
    {
     "data": {
      "image/png": "[encoded data removed]",
      "text/plain": [
       "<Figure size 432x288 with 1 Axes>"
      ]
     },
     "metadata": {
      "needs_background": "light"
     },
     "output_type": "display_data"
    },
    {
     "name": "stdout",
     "output_type": "stream",
     "text": [
      "{}\n",
      "max adn min {'max cancelation': 1, 'min cancelation': 0}\n"
     ]
    },
    {
     "data": {
      "image/png": "[encoded data removed]",
      "text/plain": [
       "<Figure size 432x288 with 1 Axes>"
      ]
     },
     "metadata": {
      "needs_background": "light"
     },
     "output_type": "display_data"
    },
    {
     "name": "stdout",
     "output_type": "stream",
     "text": [
      "day_diversion {'_id': 'WN', 'total_counts': 11738}\n",
      "day_diversion {'_id': 'DL', 'total_counts': 7989}\n",
      "day_diversion {'_id': 'EV', 'total_counts': 5916}\n",
      "day_diversion {'_id': 'OO', 'total_counts': 5708}\n",
      "day_diversion {'_id': 'AA', 'total_counts': 5250}\n",
      "day_diversion {'_id': 'UA', 'total_counts': 4701}\n",
      "day_diversion {'_id': 'US', 'total_counts': 3925}\n",
      "day_diversion {'_id': 'MQ', 'total_counts': 3502}\n",
      "day_diversion {'_id': 'B6', 'total_counts': 2548}\n",
      "day_diversion {'_id': 'AS', 'total_counts': 1586}\n",
      "day_diversion {'_id': 'NK', 'total_counts': 1048}\n",
      "day_diversion {'_id': 'F9', 'total_counts': 794}\n",
      "day_diversion {'_id': 'HA', 'total_counts': 722}\n",
      "day_diversion {'_id': 'VX', 'total_counts': 573}\n"
     ]
    }
   ],
   "source": [
    "from pymongo import MongoClient\n",
    "import pandas as pd\n",
    "import numpy as np\n",
    "import json\n",
    "import matplotlib.pyplot as plt\n",
    "import seaborn as sns\n",
    "\n",
    "def mongoimport(csv_path):\n",
    "    \n",
    "    # drop all documents   \n",
    "    hr_df = pd.read_csv(csv_path)\n",
    "\n",
    "    payload = json.loads(hr_df.to_json(orient = 'records'))\n",
    "    collection.delete_many({})\n",
    "    collection.insert_many(payload)\n",
    "\n",
    "if __name__ == \"__main__\":\n",
    "    client = MongoClient(\"mongodb://localhost:27017\")\n",
    "    print(client)\n",
    "    #(A).Create collections \"flights\" inside database \"airline_delayDB\"\n",
    "    db = client['airline_delayDB']\n",
    "    collection = db['flights']\n",
    "    mongoimport('E:/Flights_Delay.csv')\n",
    "\n",
    "    # (B). average flight delay \n",
    "\n",
    "    avg_delay = collection.aggregate([\n",
    "        {'$group' : {'_id' : 'null', 'avgerage_arrival_delay':{ '$avg' : '$ARRIVAL_DELAY'}}}, \n",
    "                    {'$project' : {'_id' : 0}}])\n",
    "    \n",
    "    for item in avg_delay:\n",
    "        print(item)\n",
    "\n",
    "   \n",
    "    # c). Days of months with respect to average of arrival delays. [Create a suitable plot using matplotlib/seaborn]\n",
    "    day_avg_delay=collection.aggregate([   {'$group': {'_id':'$DAY','total_avg': { '$avg':'$ARRIVAL_DELAY'}}}  ])\n",
    "    dayys = {}\n",
    "    for item in day_avg_delay:\n",
    "        dayys.update({item['_id']: item['total_avg']})\n",
    "        \n",
    "        keys1 = dayys.keys()\n",
    "        values1 =dayys.values()\n",
    "    plt.bar(keys1, values1,color = 'green')\n",
    "    plt.show()\n",
    "\n",
    "    # d). Arrange weekdays with respect to the average arrival delays caused. [Create a suitable plot using matplotlib/seaborn]\n",
    "    day_week=collection.aggregate([   {'$group': {'_id':'$DAY_OF_WEEK','total_avg': { '$avg':'$ARRIVAL_DELAY'}}}  ])\n",
    "daywe  = {}\n",
    "for item in day_week:\n",
    "    daywe.update({item['_id'] :item['total_avg']})\n",
    "keys2 = daywe.keys()\n",
    "values2 = daywe.values()\n",
    "\n",
    "plt.bar(keys2, values2,color = 'red')\n",
    "plt.show()\n",
    "\n",
    "# e). Arrange Days of month as per cancellations done in descending order.  [Create a suitable plot using matplotlib/seaborn]\n",
    "day_cancel=collection.aggregate([\n",
    "    {'$match':{'CANCELLED':1}},\n",
    "     {'$group': {'_id': '$DAY','day_counts': { '$count':{}}}},\n",
    "     {'$sort':{'DAY':-1}}])\n",
    "day_co = {}\n",
    "  \n",
    "for item in day_cancel:\n",
    "    day_co.update({item['_id']: item['day_counts']})\n",
    "keys3 = day_co.keys()\n",
    "values3 = day_co.values()\n",
    "\n",
    "plt.bar(keys3, values3,color = 'orange')\n",
    "plt.show()\n",
    "\n",
    "# f). Find the busiest airports with respect to day of week. Create a suitable plot using matplotlib/seaborn.\n",
    "busy_airport=collection.aggregate([\n",
    "    {'$group': {'_id': '$ORIGIN_AIRPORT', 'max_day' : { '$max' : '$DAY_OF_WEEK'}}},{'$sort':{'max_day':1}},{'$limit': 20}])\n",
    "og = {}\n",
    "\n",
    "for item in busy_airport:\n",
    "    og.update({item['_id'] :item['max_day']})\n",
    "\n",
    "keys4 = day_co.keys()\n",
    "values4 = day_co.values()\n",
    "\n",
    "plt.bar(keys4, values4,color = 'yellow')\n",
    "plt.show()\n",
    "\n",
    "# # g). Find top 10 Airlines of US. Create a suitable plot using matplotlib/seaborn.\n",
    "top_airlines=collection.aggregate([\n",
    "    {'$match':{'AIRLINE':'US'}},\n",
    "     {'$group': {'_id': 'null'}},\n",
    "     {'$sort':{'AIRLINE':-1}},\n",
    "     {'$limit':10},{'$project':{'_id':0}}])\n",
    "\n",
    "for item in top_airlines:\n",
    "    print(item)\n",
    "\n",
    "# h). Finding airlines that make the maximum, minimum number of cancellations.\n",
    "can_max_min=collection.aggregate([\n",
    "    {'$group': {'_id': 'null', 'max cancelation' : { '$max' : '$CANCELLED'},\n",
    "                                'min cancelation' : { '$min' : '$CANCELLED'}}} ,\n",
    "    {'$project':{'_id':0}}])\n",
    "for item in can_max_min:\n",
    "    print(\"max adn min\",item)    \n",
    "\n",
    "# i). Find and show airlines names in descending that make the most number of diversions made. [Create a suitable plot using matplotlib/seaborn]\n",
    "diversion=collection.aggregate([  \n",
    "                                {'$match':{'DIVERTED':1}},\n",
    "                                {'$group': {'_id':'$AIRLINE','total_counts': { '$count':{}}}},\n",
    "                                {'$sort':{'total_counts':-1}} ])\n",
    "dict = {}                                \n",
    "for item in diversion:\n",
    "    dict.update({item['_id']: item['total_counts']})   \n",
    "keys = dict.keys()\n",
    "values  =dict.values()                \n",
    "\n",
    "plt.bar(keys, values)\n",
    "plt.show()\n",
    "\n",
    "# j). Finding days of month that see the most number of diversion\n",
    "day_diversion=collection.aggregate([   {'$group': {'_id':'$AIRLINE','total_counts': { '$count':{}}}},\n",
    "                                    {'$sort':{'total_counts':-1}} ])\n",
    "for item in day_diversion:\n",
    "    print(\"day_diversion\",item)       \n",
    "\n"
   ]
  },
  {
   "cell_type": "code",
   "execution_count": null,
   "id": "c7aa125e",
   "metadata": {},
   "outputs": [],
   "source": []
  },
  {
   "cell_type": "code",
   "execution_count": null,
   "id": "70c1d548",
   "metadata": {},
   "outputs": [],
   "source": []
  }
 ],
 "metadata": {
  "kernelspec": {
   "display_name": "Python 3 (ipykernel)",
   "language": "python",
   "name": "python3"
  },
  "language_info": {
   "codemirror_mode": {
    "name": "ipython",
    "version": 3
   },
   "file_extension": ".py",
   "mimetype": "text/x-python",
   "name": "python",
   "nbconvert_exporter": "python",
   "pygments_lexer": "ipython3",
   "version": "3.9.12"
  }
 },
 "nbformat": 4,
 "nbformat_minor": 5
}
