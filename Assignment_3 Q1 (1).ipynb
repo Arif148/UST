{
 "cells": [
  {
   "cell_type": "code",
   "execution_count": 4,
   "id": "c230bb7b",
   "metadata": {},
   "outputs": [
    {
     "name": "stdout",
     "output_type": "stream",
     "text": [
      "{'W': 33, 'e': 5033, 't': 3573, 'h': 1974, 'P': 216, 'o': 2658, 'p': 547, 'l': 1419, 'f': 1005, 'U': 94, 'n': 2549, 'i': 2364, 'd': 1181, 'S': 322, 'a': 2551, 's': 2339, 'O': 51, 'r': 2108, 'm': 667, 'c': 943, 'b': 568, 'J': 44, 'u': 748, 'T': 150, 'q': 42, 'y': 477, 'v': 395, 'g': 424, 'B': 42, 'L': 67, 'C': 213, 'A': 119, 'w': 339, 'H': 49, 'R': 85, 'M': 62, 'Y': 26, 'E': 51, 'Q': 4, 'N': 58, 'z': 31, 'I': 51, 'x': 96, 'k': 51, 'D': 42, 'V': 59, 'G': 19, 'j': 52, 'F': 14, 'K': 2, '\"': 2}\n"
     ]
    },
    {
     "data": {
      "image/png": "[encoded data removed]",
      "text/plain": [
       "<Figure size 432x288 with 1 Axes>"
      ]
     },
     "metadata": {},
     "output_type": "display_data"
    }
   ],
   "source": [
    "from enum import auto\n",
    "from operator import truediv\n",
    "from turtle import color\n",
    "import numpy as np\n",
    "import pandas as pd\n",
    "import matplotlib.pyplot as plt\n",
    "import seaborn as sns\n",
    "import warnings\n",
    "warnings.filterwarnings('ignore')\n",
    "\n",
    "from itertools import count\n",
    "\n",
    "\n",
    "dict ={}\n",
    "file  = open('E:\\Py_Mongo\\constitution.txt')\n",
    "counts = 0\n",
    "files = file.read()\n",
    "\n",
    "\n",
    "for words in files:\n",
    "    if words!=' ' and words.isdigit() == False and words!=\",\" and words!='.' and words!= '(' and words !=')' and words!= '-' and words!= '\"\"' and words != \":\" and words!= ' \"' and words!= ';' and words!= '\\n':\n",
    "        if words in dict:\n",
    "            dict[words] +=1\n",
    "        else:\n",
    "            dict[words] = 1    \n",
    "print(dict)            \n",
    "\n",
    "\n",
    "#bar plot\n",
    "\n",
    "#used by categorical, nominal\n",
    "sns.set_style('whitegrid')\n",
    "keys = dict.keys()\n",
    "values = dict.values()\n",
    "plt.bar(keys, values)\n",
    "\n",
    "# auto_price['make'].value_counts().plot.bar(figsize = (15,7), color = 'orangered')\n",
    "plt.show()\n"
   ]
  },
  {
   "cell_type": "code",
   "execution_count": null,
   "id": "c9a52d56",
   "metadata": {},
   "outputs": [],
   "source": []
  },
  {
   "cell_type": "code",
   "execution_count": null,
   "id": "a2cc1dc4",
   "metadata": {},
   "outputs": [],
   "source": []
  }
 ],
 "metadata": {
  "kernelspec": {
   "display_name": "Python 3 (ipykernel)",
   "language": "python",
   "name": "python3"
  },
  "language_info": {
   "codemirror_mode": {
    "name": "ipython",
    "version": 3
   },
   "file_extension": ".py",
   "mimetype": "text/x-python",
   "name": "python",
   "nbconvert_exporter": "python",
   "pygments_lexer": "ipython3",
   "version": "3.9.12"
  },
  "widgets": {
   "application/vnd.jupyter.widget-state+json": {
    "state": {},
    "version_major": 2,
    "version_minor": 0
   }
  }
 },
 "nbformat": 4,
 "nbformat_minor": 5
}
