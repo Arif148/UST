{
 "cells": [
  {
   "cell_type": "code",
   "execution_count": 2,
   "id": "c230bb7b",
   "metadata": {},
   "outputs": [
    {
     "ename": "SyntaxError",
     "evalue": "(unicode error) 'unicodeescape' codec can't decode bytes in position 2-3: truncated \\UXXXXXXXX escape (1536569555.py, line 15)",
     "output_type": "error",
     "traceback": [
      "\u001b[1;36m  Input \u001b[1;32mIn [2]\u001b[1;36m\u001b[0m\n\u001b[1;33m    file  = open('C:\\Users\\ustpython02\\constitution.txt')\u001b[0m\n\u001b[1;37m                                                        ^\u001b[0m\n\u001b[1;31mSyntaxError\u001b[0m\u001b[1;31m:\u001b[0m (unicode error) 'unicodeescape' codec can't decode bytes in position 2-3: truncated \\UXXXXXXXX escape\n"
     ]
    }
   ],
   "source": [
    "from enum import auto\n",
    "from operator import truediv\n",
    "from turtle import color\n",
    "import numpy as np\n",
    "import pandas as pd\n",
    "import matplotlib.pyplot as plt\n",
    "import seaborn as sns\n",
    "import warnings\n",
    "warnings.filterwarnings('ignore')\n",
    "\n",
    "from itertools import count\n",
    "\n",
    "\n",
    "dict ={}\n",
    "file  = open('C:\\Users\\ustpython02\\constitution.txt')\n",
    "counts = 0\n",
    "files = file.read()\n",
    "\n",
    "\n",
    "for words in files:\n",
    "    if words!=' ' and words.isdigit() == False and words!=\",\" and words!='.' and words!= '(' and words !=')' and words!= '-' and words!= '\"\"' and words != \":\" and words!= ' \"' and words!= ';' and words!= '\\n':\n",
    "        if words in dict:\n",
    "            dict[words] +=1\n",
    "        else:\n",
    "            dict[words] = 1    \n",
    "print(dict)            \n",
    "\n",
    "\n",
    "#bar plot\n",
    "\n",
    "#used by categorical, nominal\n",
    "sns.set_style('whitegrid')\n",
    "keys = dict.keys()\n",
    "values = dict.values()\n",
    "plt.bar(keys, values)\n",
    "\n",
    "# auto_price['make'].value_counts().plot.bar(figsize = (15,7), color = 'orangered')\n",
    "plt.show()\n"
   ]
  },
  {
   "cell_type": "code",
   "execution_count": null,
   "id": "c9a52d56",
   "metadata": {},
   "outputs": [],
   "source": []
  },
  {
   "cell_type": "code",
   "execution_count": null,
   "id": "a2cc1dc4",
   "metadata": {},
   "outputs": [],
   "source": []
  }
 ],
 "metadata": {
  "kernelspec": {
   "display_name": "Python 3 (ipykernel)",
   "language": "python",
   "name": "python3"
  },
  "language_info": {
   "codemirror_mode": {
    "name": "ipython",
    "version": 3
   },
   "file_extension": ".py",
   "mimetype": "text/x-python",
   "name": "python",
   "nbconvert_exporter": "python",
   "pygments_lexer": "ipython3",
   "version": "3.9.12"
  },
  "widgets": {
   "application/vnd.jupyter.widget-state+json": {
    "state": {},
    "version_major": 2,
    "version_minor": 0
   }
  }
 },
 "nbformat": 4,
 "nbformat_minor": 5
}
